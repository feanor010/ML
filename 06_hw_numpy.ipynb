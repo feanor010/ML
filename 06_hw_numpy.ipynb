{
  "cells": [
    {
      "cell_type": "markdown",
      "metadata": {
        "id": "view-in-github",
        "colab_type": "text"
      },
      "source": [
        "<a href=\"https://colab.research.google.com/github/feanor010/ML/blob/main/06_hw_numpy.ipynb\" target=\"_parent\"><img src=\"https://colab.research.google.com/assets/colab-badge.svg\" alt=\"Open In Colab\"/></a>"
      ]
    },
    {
      "cell_type": "markdown",
      "metadata": {
        "id": "MwJ30-Zm1W9L"
      },
      "source": [
        "# Домашняя работа. Numpy\n",
        "\n",
        "1. Скачайте этот ноутбук к себе.\n",
        "2. Заполните пропущенные ячейки, отвечая на заданные вопросы. Там должен быть код! (если не сказано обратное)\n",
        "3. Сохраните результат в своём гитхаб репозитории.\n",
        "\n",
        "#### Полезная литература\n",
        "\n",
        "- http://www.numpy.org/\n",
        "- https://jakevdp.github.io/PythonDataScienceHandbook/02.00-introduction-to-numpy.html\n",
        "- https://docs.scipy.org/doc/numpy/user/quickstart.html"
      ]
    },
    {
      "cell_type": "markdown",
      "metadata": {
        "id": "gOpiLFq-1W9R"
      },
      "source": [
        "1) Импортировать numpy и написать версию"
      ]
    },
    {
      "cell_type": "code",
      "execution_count": 3,
      "metadata": {
        "colab": {
          "base_uri": "https://localhost:8080/"
        },
        "id": "tZ74DqYb1W9R",
        "outputId": "28d8c9bd-6ad4-4435-f4de-2b79f44c6479"
      },
      "outputs": [
        {
          "output_type": "stream",
          "name": "stdout",
          "text": [
            "1.23.5\n"
          ]
        }
      ],
      "source": [
        "import numpy as np\n",
        "print (np.__version__)"
      ]
    },
    {
      "cell_type": "markdown",
      "metadata": {
        "id": "otQjHvkW1W9S"
      },
      "source": [
        "2) Создать нулевой вектор размера 10"
      ]
    },
    {
      "cell_type": "code",
      "execution_count": null,
      "metadata": {
        "colab": {
          "base_uri": "https://localhost:8080/"
        },
        "id": "-UfE64K_1W9T",
        "outputId": "83eb73e9-54af-4997-b9f0-f0c26fe2d577"
      },
      "outputs": [
        {
          "output_type": "stream",
          "name": "stdout",
          "text": [
            "0.0\n",
            "0.0\n",
            "0.0\n",
            "0.0\n",
            "0.0\n",
            "0.0\n",
            "0.0\n",
            "0.0\n",
            "0.0\n",
            "0.0\n"
          ]
        }
      ],
      "source": [
        "arr = np.zeros(10)"
      ]
    },
    {
      "cell_type": "markdown",
      "metadata": {
        "id": "raJFelGV1W9T"
      },
      "source": [
        "3) Создать вектор заполненный 7-ами размера 7"
      ]
    },
    {
      "cell_type": "code",
      "execution_count": null,
      "metadata": {
        "colab": {
          "base_uri": "https://localhost:8080/"
        },
        "id": "gJxLYpN61W9T",
        "outputId": "72dcfc2a-86de-4951-ecc2-621f4679843f"
      },
      "outputs": [
        {
          "output_type": "execute_result",
          "data": {
            "text/plain": [
              "array([7, 7, 7, 7, 7, 7, 7])"
            ]
          },
          "metadata": {},
          "execution_count": 11
        }
      ],
      "source": [
        "np.full((7), 7)\n"
      ]
    },
    {
      "cell_type": "markdown",
      "metadata": {
        "id": "RQtB-hlN1W9U"
      },
      "source": [
        "4) Создать вектор заполненный четными числами от 10 до 100"
      ]
    },
    {
      "cell_type": "code",
      "execution_count": null,
      "metadata": {
        "colab": {
          "base_uri": "https://localhost:8080/"
        },
        "id": "zNfRuZp_1W9U",
        "outputId": "0e636e78-20d7-474b-9798-8788a309fa64"
      },
      "outputs": [
        {
          "output_type": "execute_result",
          "data": {
            "text/plain": [
              "array([ 10,  12,  14,  16,  18,  20,  22,  24,  26,  28,  30,  32,  34,\n",
              "        36,  38,  40,  42,  44,  46,  48,  50,  52,  54,  56,  58,  60,\n",
              "        62,  64,  66,  68,  70,  72,  74,  76,  78,  80,  82,  84,  86,\n",
              "        88,  90,  92,  94,  96,  98, 100])"
            ]
          },
          "metadata": {},
          "execution_count": 20
        }
      ],
      "source": [
        "\n",
        "np.arange(10,101)[::2]"
      ]
    },
    {
      "cell_type": "markdown",
      "metadata": {
        "id": "biPYHjXv1W9U"
      },
      "source": [
        "5) Создать массив случайных чисел и развернуть его задом наперёд"
      ]
    },
    {
      "cell_type": "code",
      "execution_count": null,
      "metadata": {
        "colab": {
          "base_uri": "https://localhost:8080/"
        },
        "id": "Z1OjrJW41W9V",
        "outputId": "3a7fa45c-74de-48ba-f935-42fafb7558ce"
      },
      "outputs": [
        {
          "output_type": "execute_result",
          "data": {
            "text/plain": [
              "array([0.20141162, 0.79934056, 0.12286897, 0.83632344, 0.50593217,\n",
              "       0.95634068, 0.94995445, 0.76157103, 0.45002995, 0.4530855 ])"
            ]
          },
          "metadata": {},
          "execution_count": 28
        }
      ],
      "source": [
        "np.random.random_sample(10)[::-1]\n"
      ]
    },
    {
      "cell_type": "markdown",
      "metadata": {
        "id": "_cEHkKyn1W9V"
      },
      "source": [
        "6) Создать двумерную матрицу размера 3 на 3, заполненную числами от 0 до 9"
      ]
    },
    {
      "cell_type": "code",
      "execution_count": null,
      "metadata": {
        "id": "HPGqk75r1W9V",
        "colab": {
          "base_uri": "https://localhost:8080/"
        },
        "outputId": "8fe07760-d5c5-4171-901d-0dde5f2101ab"
      },
      "outputs": [
        {
          "output_type": "execute_result",
          "data": {
            "text/plain": [
              "array([[0, 1, 2],\n",
              "       [3, 4, 5],\n",
              "       [6, 7, 8]])"
            ]
          },
          "metadata": {},
          "execution_count": 58
        }
      ],
      "source": [
        "np.arange(9).reshape(3,3)\n"
      ]
    },
    {
      "cell_type": "markdown",
      "metadata": {
        "id": "mSU1Zb0T1W9V"
      },
      "source": [
        "7) Создать матрицу размера 4 на 4 с единицами на диагонали смещеной на один наверх."
      ]
    },
    {
      "cell_type": "code",
      "execution_count": null,
      "metadata": {
        "id": "Mzm74UXb1W9W",
        "colab": {
          "base_uri": "https://localhost:8080/"
        },
        "outputId": "0e00ac03-1020-4d8e-c6ee-12a1a97c3d87"
      },
      "outputs": [
        {
          "output_type": "execute_result",
          "data": {
            "text/plain": [
              "array([[0., 1., 0., 0.],\n",
              "       [0., 0., 1., 0.],\n",
              "       [0., 0., 0., 1.],\n",
              "       [0., 0., 0., 0.]])"
            ]
          },
          "metadata": {},
          "execution_count": 51
        }
      ],
      "source": [
        "np.eye(4, k = 1)"
      ]
    },
    {
      "cell_type": "markdown",
      "metadata": {
        "id": "Xc7SDFki1W9W"
      },
      "source": [
        "8) Создать матрицу с числами в диапазоне от 1 до 4 по диагонали. В других ячейках матрицы должны быть семерки."
      ]
    },
    {
      "cell_type": "code",
      "execution_count": null,
      "metadata": {
        "id": "Thy95zFM1W9W",
        "colab": {
          "base_uri": "https://localhost:8080/"
        },
        "outputId": "63ca12d9-8c03-45f8-d558-cd135ec8681c"
      },
      "outputs": [
        {
          "output_type": "stream",
          "name": "stdout",
          "text": [
            "[[1 7 7 7]\n",
            " [7 2 7 7]\n",
            " [7 7 3 7]\n",
            " [7 7 7 4]]\n"
          ]
        }
      ],
      "source": [
        "arr = np.full((4,4),7)\n",
        "np.fill_diagonal(arr, [1,2,3,4])\n",
        "print(arr)\n"
      ]
    },
    {
      "cell_type": "markdown",
      "metadata": {
        "id": "BNAg2jMa1W9W"
      },
      "source": [
        "9) Создать матрицу размера 5 на 5 заполненную чилами от 0 до 4 в строках."
      ]
    },
    {
      "cell_type": "code",
      "execution_count": 8,
      "metadata": {
        "id": "0ztjcAUu1W9W",
        "colab": {
          "base_uri": "https://localhost:8080/"
        },
        "outputId": "65e84d8a-7dc6-4ba0-f99e-46923acc2f70"
      },
      "outputs": [
        {
          "output_type": "execute_result",
          "data": {
            "text/plain": [
              "array([[0, 1, 2, 3, 4],\n",
              "       [0, 1, 2, 3, 4],\n",
              "       [0, 1, 2, 3, 4],\n",
              "       [0, 1, 2, 3, 4],\n",
              "       [0, 1, 2, 3, 4]])"
            ]
          },
          "metadata": {},
          "execution_count": 8
        }
      ],
      "source": [
        "np.full((5,5),[0,1,2,3,4])"
      ]
    },
    {
      "cell_type": "markdown",
      "metadata": {
        "id": "sn5c3aic1W9X"
      },
      "source": [
        "10) Создать матрицу случайных чисел размера 10 на 10 и отнять среднее по строкам из каждого элемента строки"
      ]
    },
    {
      "cell_type": "code",
      "execution_count": 7,
      "metadata": {
        "id": "dReqqqII1W9X"
      },
      "outputs": [],
      "source": [
        "arr = np.random.random_sample((10,10))\n",
        "arr = arr - arr.mean(axis = 1, keepdims = True)\n",
        "arr"
      ]
    },
    {
      "cell_type": "markdown",
      "metadata": {
        "id": "LZnqVW4m1W9X"
      },
      "source": [
        "11) Создать матрицу случайных чисел размера 10 на 10 и отнять медиану по столбцам из каждого элемента столбца  "
      ]
    },
    {
      "cell_type": "code",
      "execution_count": 9,
      "metadata": {
        "id": "GaseA0gL1W9Y",
        "colab": {
          "base_uri": "https://localhost:8080/"
        },
        "outputId": "80253ff6-7bd7-470d-876b-daacd17def81"
      },
      "outputs": [
        {
          "output_type": "stream",
          "name": "stdout",
          "text": [
            "[[ 0.33275604  0.26587393  0.12867387 -0.64929884 -0.06046552 -0.05133546\n",
            "  -0.48149592  0.33902515 -0.09689293  0.36984163]\n",
            " [-0.30157509 -0.08424699  0.14871228  0.11133333  0.06046552 -0.42447371\n",
            "  -0.43347468 -0.18529816 -0.28337538  0.0273081 ]\n",
            " [-0.05100447 -0.0135399   0.01098879 -0.03724347  0.10557102  0.05133546\n",
            "   0.25852737  0.63019842 -0.039301   -0.0273081 ]\n",
            " [ 0.13414546 -0.44121919 -0.62267869 -0.41366741 -0.18639522 -0.06538612\n",
            "  -0.30833079 -0.14706922  0.039301   -0.29564184]\n",
            " [-0.30191387  0.19949097  0.04052259  0.10781547  0.27433252  0.19474586\n",
            "  -0.03852619  0.44080549 -0.14351922 -0.58242067]\n",
            " [ 0.33368655  0.0135399  -0.67451879  0.03724347 -0.40806518 -0.17989899\n",
            "   0.03852619 -0.11836531  0.1056695  -0.13458641]\n",
            " [ 0.26067046 -0.39030447 -0.14613085  0.11758885  0.20161762  0.31743851\n",
            "   0.2013458   0.11836531 -0.07354989  0.05566485]\n",
            " [-0.28279995  0.13894739 -0.05291024 -0.25899169 -0.14243735 -0.65718983\n",
            "  -0.34068927 -0.1456749   0.479691   -0.43647338]\n",
            " [ 0.05100447  0.16081589 -0.01098879  0.08864068  0.07956426  0.142078\n",
            "   0.05723236 -0.19986532  0.13078767  0.10034574]\n",
            " [-0.24829397 -0.49720418  0.08491086 -0.14401587 -0.1107915   0.22674872\n",
            "   0.05908445  0.47788283  0.53574907  0.21418136]]\n"
          ]
        }
      ],
      "source": [
        "arr = np.random.random_sample((10,10))\n",
        "arr = arr - np.median(arr,axis=0,keepdims=True)\n",
        "print(arr)\n"
      ]
    },
    {
      "cell_type": "markdown",
      "metadata": {
        "id": "cQUIGgxK1W9Y"
      },
      "source": [
        "12) Создать матрицу случайных чисел 5x5. Добавить к ней столбецы максимумов и минимумов по строкам. Получится матрица 5x7.  "
      ]
    },
    {
      "cell_type": "code",
      "execution_count": 17,
      "metadata": {
        "id": "kGb06fnd1W9Y",
        "colab": {
          "base_uri": "https://localhost:8080/"
        },
        "outputId": "f36c8946-c3fe-423f-ecdd-f7e9ee994185"
      },
      "outputs": [
        {
          "output_type": "stream",
          "name": "stdout",
          "text": [
            "[[0.57802525 0.14707741 0.25727537 0.32071001 0.73299054 0.73299054\n",
            "  0.14707741]\n",
            " [0.22951575 0.61205641 0.20619603 0.33608369 0.90650893 0.90650893\n",
            "  0.20619603]\n",
            " [0.96347606 0.59651929 0.54950643 0.3295322  0.82462686 0.96347606\n",
            "  0.3295322 ]\n",
            " [0.26785523 0.54865401 0.80809921 0.26041998 0.66096289 0.80809921\n",
            "  0.26041998]\n",
            " [0.10019451 0.07339354 0.3707305  0.3212982  0.80378013 0.80378013\n",
            "  0.07339354]]\n"
          ]
        }
      ],
      "source": [
        "arr = np.random.random_sample((5,5))\n",
        "arr = np.concatenate((arr,arr.max(axis =1,keepdims=True),arr.min(axis =1,keepdims=True)),axis = 1)\n",
        "print(arr)\n"
      ]
    },
    {
      "cell_type": "markdown",
      "metadata": {
        "id": "ykqhXrDE1W9Z"
      },
      "source": [
        "13) Вектор чисел от 1 до 51 преобразовать в вектор нечетных чисел и в вектор четных чисел, поменять их размерности, чтобы получились две матрица. Найти произведение этих матриц. Найти обратную матрицу эётого произведения.  "
      ]
    },
    {
      "cell_type": "code",
      "execution_count": 20,
      "metadata": {
        "id": "jEa6xgaG1W9Z",
        "colab": {
          "base_uri": "https://localhost:8080/"
        },
        "outputId": "938688b0-a12b-4ff7-def6-9af9d4ca09d2"
      },
      "outputs": [
        {
          "output_type": "stream",
          "name": "stdout",
          "text": [
            "[[ 2  4  6  8 10 12]\n",
            " [14 16 18 20 22 24]\n",
            " [26 28 30 32 34 36]\n",
            " [38 40 42 44 46 48]]\n",
            "[[1246 1330 1414 1498]\n",
            " [2902 3130 3358 3586]\n",
            " [4558 4930 5302 5674]\n",
            " [6214 6730 7246 7762]]\n",
            "[[-3.66503876e+11  3.21853878e-04  1.09951163e+12 -7.33007752e+11]\n",
            " [-7.33007752e+11  2.19902326e+12 -2.19902326e+12  7.33007752e+11]\n",
            " [ 2.56552713e+12 -4.39804651e+12  1.09951163e+12  7.33007752e+11]\n",
            " [-1.46601550e+12  2.19902326e+12  0.00000000e+00 -7.33007752e+11]]\n"
          ]
        }
      ],
      "source": [
        "a =np.mat(np.arange(1,50)[1::2]).reshape(4,6)\n",
        "b =np.mat(np.arange(1,50)[2::2]).reshape(6,4)\n",
        "print(a*b)\n",
        "print(np.linalg.inv(a*b))"
      ]
    },
    {
      "cell_type": "markdown",
      "metadata": {
        "id": "L-h0HrCy1W9Z"
      },
      "source": [
        "14) Создать 8x8 матрицу и заполнить её в шахматном порядке нулями и единицами."
      ]
    },
    {
      "cell_type": "code",
      "execution_count": 22,
      "metadata": {
        "id": "oqUnnxVS1W9a",
        "colab": {
          "base_uri": "https://localhost:8080/"
        },
        "outputId": "19204111-e910-4ee7-b322-52a27d569a9b"
      },
      "outputs": [
        {
          "output_type": "stream",
          "name": "stdout",
          "text": [
            "[[0. 1. 0. 1. 0. 1. 0. 1.]\n",
            " [1. 0. 1. 0. 1. 0. 1. 0.]\n",
            " [0. 1. 0. 1. 0. 1. 0. 1.]\n",
            " [1. 0. 1. 0. 1. 0. 1. 0.]\n",
            " [0. 1. 0. 1. 0. 1. 0. 1.]\n",
            " [1. 0. 1. 0. 1. 0. 1. 0.]\n",
            " [0. 1. 0. 1. 0. 1. 0. 1.]\n",
            " [1. 0. 1. 0. 1. 0. 1. 0.]]\n"
          ]
        }
      ],
      "source": [
        "arr = np.zeros((8,8))\n",
        "arr[1::2,::2] = 1\n",
        "arr[::2,1::2] = 1\n",
        "print(arr)"
      ]
    }
  ],
  "metadata": {
    "kernelspec": {
      "display_name": "Python 3 (ipykernel)",
      "language": "python",
      "name": "python3"
    },
    "language_info": {
      "codemirror_mode": {
        "name": "ipython",
        "version": 3
      },
      "file_extension": ".py",
      "mimetype": "text/x-python",
      "name": "python",
      "nbconvert_exporter": "python",
      "pygments_lexer": "ipython3",
      "version": "3.10.1"
    },
    "colab": {
      "provenance": [],
      "include_colab_link": true
    }
  },
  "nbformat": 4,
  "nbformat_minor": 0
}